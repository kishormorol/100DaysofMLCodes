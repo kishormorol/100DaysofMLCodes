{
 "cells": [
  {
   "cell_type": "markdown",
   "metadata": {},
   "source": [
    "## If you want to know  the frequency or the importance of each word from a dataset, you can use WordCloud to check the maximum frequency words in different size\n",
    "\n",
    "## I have used my facebook posts data to check the most used 40 words from  3925 posts made by me in last 9 years.\n",
    "\n",
    "** If you want to download your data, you can check this link (https://www.facebook.com/help/1701730696756992) to know how you can get your facebook information."
   ]
  },
  {
   "cell_type": "code",
   "execution_count": 19,
   "metadata": {
    "scrolled": true
   },
   "outputs": [],
   "source": [
    "import pandas as pd\n",
    "import numpy as np\n",
    "import matplotlib.pyplot as plt\n",
    "from wordcloud import WordCloud"
   ]
  },
  {
   "cell_type": "code",
   "execution_count": 20,
   "metadata": {},
   "outputs": [
    {
     "data": {
      "text/html": [
       "<div>\n",
       "<style scoped>\n",
       "    .dataframe tbody tr th:only-of-type {\n",
       "        vertical-align: middle;\n",
       "    }\n",
       "\n",
       "    .dataframe tbody tr th {\n",
       "        vertical-align: top;\n",
       "    }\n",
       "\n",
       "    .dataframe thead th {\n",
       "        text-align: right;\n",
       "    }\n",
       "</style>\n",
       "<table border=\"1\" class=\"dataframe\">\n",
       "  <thead>\n",
       "    <tr style=\"text-align: right;\">\n",
       "      <th></th>\n",
       "      <th>timestamp</th>\n",
       "      <th>attachments</th>\n",
       "      <th>data</th>\n",
       "      <th>title</th>\n",
       "      <th>tags</th>\n",
       "    </tr>\n",
       "  </thead>\n",
       "  <tbody>\n",
       "    <tr>\n",
       "      <th>0</th>\n",
       "      <td>2020-09-22 17:55:42</td>\n",
       "      <td>[{'data': [{'external_context': {'url': 'https...</td>\n",
       "      <td>[{'post': 'Day-1 Completed. \n",
       "\n",
       "1. Code: I have ...</td>\n",
       "      <td>NaN</td>\n",
       "      <td>NaN</td>\n",
       "    </tr>\n",
       "    <tr>\n",
       "      <th>1</th>\n",
       "      <td>2020-09-21 12:51:32</td>\n",
       "      <td>NaN</td>\n",
       "      <td>[{'post': 'You can take this challenge as well...</td>\n",
       "      <td>Md Kishor Morol posted in AIUBian@MOOC.</td>\n",
       "      <td>NaN</td>\n",
       "    </tr>\n",
       "    <tr>\n",
       "      <th>2</th>\n",
       "      <td>2020-09-21 12:50:53</td>\n",
       "      <td>NaN</td>\n",
       "      <td>[{'post': 'Exactly 100 days are remaining of 2...</td>\n",
       "      <td>Md Kishor Morol updated his status.</td>\n",
       "      <td>NaN</td>\n",
       "    </tr>\n",
       "    <tr>\n",
       "      <th>3</th>\n",
       "      <td>2020-09-21 06:12:50</td>\n",
       "      <td>NaN</td>\n",
       "      <td>[{'post': 'Happy Birthday, Sir.'}]</td>\n",
       "      <td>Md Kishor Morol wrote on Dev Karmaker's timeline.</td>\n",
       "      <td>NaN</td>\n",
       "    </tr>\n",
       "    <tr>\n",
       "      <th>4</th>\n",
       "      <td>2020-09-21 04:16:12</td>\n",
       "      <td>[]</td>\n",
       "      <td>[{'update_timestamp': 1600661772}]</td>\n",
       "      <td>Md Kishor Morol shared a video from the playli...</td>\n",
       "      <td>NaN</td>\n",
       "    </tr>\n",
       "  </tbody>\n",
       "</table>\n",
       "</div>"
      ],
      "text/plain": [
       "            timestamp                                        attachments  \\\n",
       "0 2020-09-22 17:55:42  [{'data': [{'external_context': {'url': 'https...   \n",
       "1 2020-09-21 12:51:32                                                NaN   \n",
       "2 2020-09-21 12:50:53                                                NaN   \n",
       "3 2020-09-21 06:12:50                                                NaN   \n",
       "4 2020-09-21 04:16:12                                                 []   \n",
       "\n",
       "                                                data  \\\n",
       "0  [{'post': 'Day-1 Completed. \n",
       "\n",
       "1. Code: I have ...   \n",
       "1  [{'post': 'You can take this challenge as well...   \n",
       "2  [{'post': 'Exactly 100 days are remaining of 2...   \n",
       "3                 [{'post': 'Happy Birthday, Sir.'}]   \n",
       "4                 [{'update_timestamp': 1600661772}]   \n",
       "\n",
       "                                               title tags  \n",
       "0                                                NaN  NaN  \n",
       "1            Md Kishor Morol posted in AIUBian@MOOC.  NaN  \n",
       "2                Md Kishor Morol updated his status.  NaN  \n",
       "3  Md Kishor Morol wrote on Dev Karmaker's timeline.  NaN  \n",
       "4  Md Kishor Morol shared a video from the playli...  NaN  "
      ]
     },
     "execution_count": 20,
     "metadata": {},
     "output_type": "execute_result"
    }
   ],
   "source": [
    "post_df = pd.read_json('../your_posts_1.json') #load the json data\n",
    "post_df.head() #show the first 5 rows"
   ]
  },
  {
   "cell_type": "code",
   "execution_count": 21,
   "metadata": {},
   "outputs": [
    {
     "data": {
      "text/html": [
       "<div>\n",
       "<style scoped>\n",
       "    .dataframe tbody tr th:only-of-type {\n",
       "        vertical-align: middle;\n",
       "    }\n",
       "\n",
       "    .dataframe tbody tr th {\n",
       "        vertical-align: top;\n",
       "    }\n",
       "\n",
       "    .dataframe thead th {\n",
       "        text-align: right;\n",
       "    }\n",
       "</style>\n",
       "<table border=\"1\" class=\"dataframe\">\n",
       "  <thead>\n",
       "    <tr style=\"text-align: right;\">\n",
       "      <th></th>\n",
       "      <th>timestamp</th>\n",
       "      <th>attachments</th>\n",
       "      <th>data</th>\n",
       "      <th>title</th>\n",
       "      <th>tags</th>\n",
       "    </tr>\n",
       "  </thead>\n",
       "  <tbody>\n",
       "    <tr>\n",
       "      <th>0</th>\n",
       "      <td>2020-09-22 17:55:42</td>\n",
       "      <td>[{'data': [{'external_context': {'url': 'https...</td>\n",
       "      <td>[{'post': 'Day-1 Completed. \n",
       "\n",
       "1. Code: I have ...</td>\n",
       "      <td>NaN</td>\n",
       "      <td>NaN</td>\n",
       "    </tr>\n",
       "    <tr>\n",
       "      <th>1</th>\n",
       "      <td>2020-09-21 12:51:32</td>\n",
       "      <td>NaN</td>\n",
       "      <td>[{'post': 'You can take this challenge as well...</td>\n",
       "      <td>Md Kishor Morol posted in AIUBian@MOOC.</td>\n",
       "      <td>NaN</td>\n",
       "    </tr>\n",
       "    <tr>\n",
       "      <th>2</th>\n",
       "      <td>2020-09-21 12:50:53</td>\n",
       "      <td>NaN</td>\n",
       "      <td>[{'post': 'Exactly 100 days are remaining of 2...</td>\n",
       "      <td>Md Kishor Morol updated his status.</td>\n",
       "      <td>NaN</td>\n",
       "    </tr>\n",
       "    <tr>\n",
       "      <th>3</th>\n",
       "      <td>2020-09-21 06:12:50</td>\n",
       "      <td>NaN</td>\n",
       "      <td>[{'post': 'Happy Birthday, Sir.'}]</td>\n",
       "      <td>Md Kishor Morol wrote on Dev Karmaker's timeline.</td>\n",
       "      <td>NaN</td>\n",
       "    </tr>\n",
       "    <tr>\n",
       "      <th>4</th>\n",
       "      <td>2020-09-21 04:16:12</td>\n",
       "      <td>[]</td>\n",
       "      <td>[{'update_timestamp': 1600661772}]</td>\n",
       "      <td>Md Kishor Morol shared a video from the playli...</td>\n",
       "      <td>NaN</td>\n",
       "    </tr>\n",
       "    <tr>\n",
       "      <th>...</th>\n",
       "      <td>...</td>\n",
       "      <td>...</td>\n",
       "      <td>...</td>\n",
       "      <td>...</td>\n",
       "      <td>...</td>\n",
       "    </tr>\n",
       "    <tr>\n",
       "      <th>3920</th>\n",
       "      <td>2011-10-27 06:57:00</td>\n",
       "      <td>NaN</td>\n",
       "      <td>[{'post': 'ay bonga'}]</td>\n",
       "      <td>Md Kishor Morol wrote on Mehedi Hasan Saurav's...</td>\n",
       "      <td>NaN</td>\n",
       "    </tr>\n",
       "    <tr>\n",
       "      <th>3921</th>\n",
       "      <td>2011-10-27 06:51:34</td>\n",
       "      <td>NaN</td>\n",
       "      <td>[{'post': 'hi rudi.tui koy?'}]</td>\n",
       "      <td>Md Kishor Morol wrote on Touhidul Islam Neon's...</td>\n",
       "      <td>NaN</td>\n",
       "    </tr>\n",
       "    <tr>\n",
       "      <th>3922</th>\n",
       "      <td>2011-10-26 15:06:40</td>\n",
       "      <td>NaN</td>\n",
       "      <td>[{'post': 'hello everyone.how r u?'}]</td>\n",
       "      <td>Md Kishor Morol updated his status.</td>\n",
       "      <td>NaN</td>\n",
       "    </tr>\n",
       "    <tr>\n",
       "      <th>3923</th>\n",
       "      <td>2011-10-25 17:05:08</td>\n",
       "      <td>NaN</td>\n",
       "      <td>[{'post': 'hi brother.i am ur ......'}]</td>\n",
       "      <td>Md Kishor Morol wrote on -munawar Anjum-'s tim...</td>\n",
       "      <td>NaN</td>\n",
       "    </tr>\n",
       "    <tr>\n",
       "      <th>3924</th>\n",
       "      <td>2011-10-25 11:52:51</td>\n",
       "      <td>NaN</td>\n",
       "      <td>[{'post': 'ki obosta rudi.ferighat jabe na?'}]</td>\n",
       "      <td>Md Kishor Morol wrote on Touhidul Islam Neon's...</td>\n",
       "      <td>NaN</td>\n",
       "    </tr>\n",
       "  </tbody>\n",
       "</table>\n",
       "<p>3925 rows × 5 columns</p>\n",
       "</div>"
      ],
      "text/plain": [
       "               timestamp                                        attachments  \\\n",
       "0    2020-09-22 17:55:42  [{'data': [{'external_context': {'url': 'https...   \n",
       "1    2020-09-21 12:51:32                                                NaN   \n",
       "2    2020-09-21 12:50:53                                                NaN   \n",
       "3    2020-09-21 06:12:50                                                NaN   \n",
       "4    2020-09-21 04:16:12                                                 []   \n",
       "...                  ...                                                ...   \n",
       "3920 2011-10-27 06:57:00                                                NaN   \n",
       "3921 2011-10-27 06:51:34                                                NaN   \n",
       "3922 2011-10-26 15:06:40                                                NaN   \n",
       "3923 2011-10-25 17:05:08                                                NaN   \n",
       "3924 2011-10-25 11:52:51                                                NaN   \n",
       "\n",
       "                                                   data  \\\n",
       "0     [{'post': 'Day-1 Completed. \n",
       "\n",
       "1. Code: I have ...   \n",
       "1     [{'post': 'You can take this challenge as well...   \n",
       "2     [{'post': 'Exactly 100 days are remaining of 2...   \n",
       "3                    [{'post': 'Happy Birthday, Sir.'}]   \n",
       "4                    [{'update_timestamp': 1600661772}]   \n",
       "...                                                 ...   \n",
       "3920                             [{'post': 'ay bonga'}]   \n",
       "3921                     [{'post': 'hi rudi.tui koy?'}]   \n",
       "3922              [{'post': 'hello everyone.how r u?'}]   \n",
       "3923            [{'post': 'hi brother.i am ur ......'}]   \n",
       "3924     [{'post': 'ki obosta rudi.ferighat jabe na?'}]   \n",
       "\n",
       "                                                  title tags  \n",
       "0                                                   NaN  NaN  \n",
       "1               Md Kishor Morol posted in AIUBian@MOOC.  NaN  \n",
       "2                   Md Kishor Morol updated his status.  NaN  \n",
       "3     Md Kishor Morol wrote on Dev Karmaker's timeline.  NaN  \n",
       "4     Md Kishor Morol shared a video from the playli...  NaN  \n",
       "...                                                 ...  ...  \n",
       "3920  Md Kishor Morol wrote on Mehedi Hasan Saurav's...  NaN  \n",
       "3921  Md Kishor Morol wrote on Touhidul Islam Neon's...  NaN  \n",
       "3922                Md Kishor Morol updated his status.  NaN  \n",
       "3923  Md Kishor Morol wrote on -munawar Anjum-'s tim...  NaN  \n",
       "3924  Md Kishor Morol wrote on Touhidul Islam Neon's...  NaN  \n",
       "\n",
       "[3925 rows x 5 columns]"
      ]
     },
     "execution_count": 21,
     "metadata": {},
     "output_type": "execute_result"
    }
   ],
   "source": [
    "post_df"
   ]
  },
  {
   "cell_type": "code",
   "execution_count": 22,
   "metadata": {},
   "outputs": [],
   "source": [
    "post_df = post_df.drop(['attachments', 'timestamp', 'title', 'tags'],axis=1) #drop the unnecessay column"
   ]
  },
  {
   "cell_type": "code",
   "execution_count": 23,
   "metadata": {},
   "outputs": [
    {
     "data": {
      "text/html": [
       "<div>\n",
       "<style scoped>\n",
       "    .dataframe tbody tr th:only-of-type {\n",
       "        vertical-align: middle;\n",
       "    }\n",
       "\n",
       "    .dataframe tbody tr th {\n",
       "        vertical-align: top;\n",
       "    }\n",
       "\n",
       "    .dataframe thead th {\n",
       "        text-align: right;\n",
       "    }\n",
       "</style>\n",
       "<table border=\"1\" class=\"dataframe\">\n",
       "  <thead>\n",
       "    <tr style=\"text-align: right;\">\n",
       "      <th></th>\n",
       "      <th>data</th>\n",
       "    </tr>\n",
       "  </thead>\n",
       "  <tbody>\n",
       "    <tr>\n",
       "      <th>0</th>\n",
       "      <td>[{'post': 'Day-1 Completed. \n",
       "\n",
       "1. Code: I have ...</td>\n",
       "    </tr>\n",
       "    <tr>\n",
       "      <th>1</th>\n",
       "      <td>[{'post': 'You can take this challenge as well...</td>\n",
       "    </tr>\n",
       "    <tr>\n",
       "      <th>2</th>\n",
       "      <td>[{'post': 'Exactly 100 days are remaining of 2...</td>\n",
       "    </tr>\n",
       "    <tr>\n",
       "      <th>3</th>\n",
       "      <td>[{'post': 'Happy Birthday, Sir.'}]</td>\n",
       "    </tr>\n",
       "    <tr>\n",
       "      <th>4</th>\n",
       "      <td>[{'update_timestamp': 1600661772}]</td>\n",
       "    </tr>\n",
       "    <tr>\n",
       "      <th>...</th>\n",
       "      <td>...</td>\n",
       "    </tr>\n",
       "    <tr>\n",
       "      <th>3920</th>\n",
       "      <td>[{'post': 'ay bonga'}]</td>\n",
       "    </tr>\n",
       "    <tr>\n",
       "      <th>3921</th>\n",
       "      <td>[{'post': 'hi rudi.tui koy?'}]</td>\n",
       "    </tr>\n",
       "    <tr>\n",
       "      <th>3922</th>\n",
       "      <td>[{'post': 'hello everyone.how r u?'}]</td>\n",
       "    </tr>\n",
       "    <tr>\n",
       "      <th>3923</th>\n",
       "      <td>[{'post': 'hi brother.i am ur ......'}]</td>\n",
       "    </tr>\n",
       "    <tr>\n",
       "      <th>3924</th>\n",
       "      <td>[{'post': 'ki obosta rudi.ferighat jabe na?'}]</td>\n",
       "    </tr>\n",
       "  </tbody>\n",
       "</table>\n",
       "<p>3925 rows × 1 columns</p>\n",
       "</div>"
      ],
      "text/plain": [
       "                                                   data\n",
       "0     [{'post': 'Day-1 Completed. \n",
       "\n",
       "1. Code: I have ...\n",
       "1     [{'post': 'You can take this challenge as well...\n",
       "2     [{'post': 'Exactly 100 days are remaining of 2...\n",
       "3                    [{'post': 'Happy Birthday, Sir.'}]\n",
       "4                    [{'update_timestamp': 1600661772}]\n",
       "...                                                 ...\n",
       "3920                             [{'post': 'ay bonga'}]\n",
       "3921                     [{'post': 'hi rudi.tui koy?'}]\n",
       "3922              [{'post': 'hello everyone.how r u?'}]\n",
       "3923            [{'post': 'hi brother.i am ur ......'}]\n",
       "3924     [{'post': 'ki obosta rudi.ferighat jabe na?'}]\n",
       "\n",
       "[3925 rows x 1 columns]"
      ]
     },
     "execution_count": 23,
     "metadata": {},
     "output_type": "execute_result"
    }
   ],
   "source": [
    "post_df"
   ]
  },
  {
   "cell_type": "code",
   "execution_count": 24,
   "metadata": {},
   "outputs": [
    {
     "data": {
      "text/plain": [
       "0       [{'post': 'Day-1 Completed. \n",
       "\n",
       "1. Code: I have ...\n",
       "1       [{'post': 'You can take this challenge as well...\n",
       "2       [{'post': 'Exactly 100 days are remaining of 2...\n",
       "3                      [{'post': 'Happy Birthday, Sir.'}]\n",
       "4                      [{'update_timestamp': 1600661772}]\n",
       "                              ...                        \n",
       "3920                               [{'post': 'ay bonga'}]\n",
       "3921                       [{'post': 'hi rudi.tui koy?'}]\n",
       "3922                [{'post': 'hello everyone.how r u?'}]\n",
       "3923              [{'post': 'hi brother.i am ur ......'}]\n",
       "3924       [{'post': 'ki obosta rudi.ferighat jabe na?'}]\n",
       "Name: data, Length: 3925, dtype: object"
      ]
     },
     "execution_count": 24,
     "metadata": {},
     "output_type": "execute_result"
    }
   ],
   "source": [
    "post_df['data']"
   ]
  },
  {
   "cell_type": "code",
   "execution_count": 25,
   "metadata": {},
   "outputs": [],
   "source": [
    "post_df['data']= post_df['data'].astype(str) #convert object to pandas series"
   ]
  },
  {
   "cell_type": "code",
   "execution_count": 26,
   "metadata": {},
   "outputs": [],
   "source": [
    "posts = pd.Series.to_string(post_df['data']) #convert series to string"
   ]
  },
  {
   "cell_type": "code",
   "execution_count": 27,
   "metadata": {},
   "outputs": [
    {
     "data": {
      "text/plain": [
       "'!\"#$%&\\'()*+,-./:;<=>?@[\\\\]^_`{|}~'"
      ]
     },
     "execution_count": 27,
     "metadata": {},
     "output_type": "execute_result"
    }
   ],
   "source": [
    "import string \n",
    "string.punctuation"
   ]
  },
  {
   "cell_type": "code",
   "execution_count": 28,
   "metadata": {},
   "outputs": [],
   "source": [
    "posts_punc_removed = [ char for char in posts if char not in string.punctuation] #remove the punctution marks"
   ]
  },
  {
   "cell_type": "code",
   "execution_count": 29,
   "metadata": {},
   "outputs": [],
   "source": [
    "alphabet = \"ABCDEFGHIJKLMNOPQRSTUVZXYZabcdefghijklmnopqrstuvwxyz \" #we need just english alphabet"
   ]
  },
  {
   "cell_type": "code",
   "execution_count": 30,
   "metadata": {},
   "outputs": [],
   "source": [
    "posts_garbage_removed = [ char for char in posts_punc_removed if char in alphabet] #remove other character excpt alphabet"
   ]
  },
  {
   "cell_type": "code",
   "execution_count": 31,
   "metadata": {},
   "outputs": [],
   "source": [
    "all_sentences = ''.join(posts_garbage_removed)"
   ]
  },
  {
   "cell_type": "code",
   "execution_count": 32,
   "metadata": {},
   "outputs": [],
   "source": [
    "removed_words = np.array(['updatetimestamp','post', 'nan','xfx','xf','xxx','xx', 'xfxx']) #choose unnecessary words"
   ]
  },
  {
   "cell_type": "code",
   "execution_count": 33,
   "metadata": {},
   "outputs": [],
   "source": [
    "words = [word for word in all_sentences.split() if word not in removed_words] #remove unnecessary words"
   ]
  },
  {
   "cell_type": "code",
   "execution_count": 34,
   "metadata": {},
   "outputs": [],
   "source": [
    "sentences_as_words = \" \".join(words)"
   ]
  },
  {
   "cell_type": "code",
   "execution_count": 35,
   "metadata": {},
   "outputs": [
    {
     "data": {
      "image/png": "[encoded data removed]",
      "text/plain": [
       "<Figure size 576x576 with 1 Axes>"
      ]
     },
     "metadata": {
      "needs_background": "light"
     },
     "output_type": "display_data"
    }
   ],
   "source": [
    "wordcloud = WordCloud(max_font_size=50, max_words=40, background_color=\"white\").generate(sentences_as_words)\n",
    "plt.figure(figsize=[8,8])\n",
    "plt.imshow(wordcloud, interpolation=\"bilinear\")\n",
    "plt.axis(\"off\")\n",
    "plt.show()"
   ]
  },
  {
   "cell_type": "code",
   "execution_count": null,
   "metadata": {},
   "outputs": [],
   "source": []
  }
 ],
 "metadata": {
  "kernelspec": {
   "display_name": "Python 3",
   "language": "python",
   "name": "python3"
  },
  "language_info": {
   "codemirror_mode": {
    "name": "ipython",
    "version": 3
   },
   "file_extension": ".py",
   "mimetype": "text/x-python",
   "name": "python",
   "nbconvert_exporter": "python",
   "pygments_lexer": "ipython3",
   "version": "3.8.2"
  }
 },
 "nbformat": 4,
 "nbformat_minor": 4
}
