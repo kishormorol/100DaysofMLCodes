{
 "cells": [
  {
   "cell_type": "markdown",
   "metadata": {},
   "source": [
    "# Image Classification With Transfer Learning in Keras"
   ]
  },
  {
   "cell_type": "markdown",
   "metadata": {},
   "source": [
    "# Task 1: Importing Libraries"
   ]
  },
  {
   "cell_type": "code",
   "execution_count": null,
   "metadata": {},
   "outputs": [],
   "source": [
    "import tensorflow as tf\n",
    "import tarfile\n",
    "import urllib\n",
    "import os\n",
    "import numpy as np\n",
    "import pets\n",
    "\n",
    "from matplotlib import pyplot as plt\n",
    "%matplotlib inline\n",
    "\n",
    "data_dir = 'data/'\n",
    "if not os.path.isdir(data_dir):\n",
    "    os.mkdir(data_dir)\n",
    "\n",
    "print('TensorFlow version:', tf.__version__)\n",
    "print('Is using GPU?', tf.test.is_gpu_available())"
   ]
  },
  {
   "cell_type": "markdown",
   "metadata": {},
   "source": [
    "# Task 2: Cats vs Dogs Dataset"
   ]
  },
  {
   "cell_type": "code",
   "execution_count": null,
   "metadata": {},
   "outputs": [],
   "source": [
    "pets.download_and_extract('data', '.')"
   ]
  },
  {
   "cell_type": "code",
   "execution_count": null,
   "metadata": {},
   "outputs": [],
   "source": [
    "class_to_index = {'cat': 0, 'dog': 1}\n",
    "index_to_class = {0: 'cat', 1: 'dog'}\n",
    "\n",
    "train_annot, count_train = pets.cats_vs_dogs_annotations('data/annotations/trainval.txt')\n",
    "test_annot, count_test = pets.cats_vs_dogs_annotations('data/annotations/test.txt')\n",
    "\n",
    "print('Training examples count:', count_train)\n",
    "print('Test examples count:', count_test)"
   ]
  },
  {
   "cell_type": "markdown",
   "metadata": {},
   "source": [
    "# Task 3: Get Random Batch"
   ]
  },
  {
   "cell_type": "code",
   "execution_count": null,
   "metadata": {},
   "outputs": [],
   "source": [
    "image_dir = 'data/images/'\n",
    "\n",
    "def get_random_batch(annot, batch_size=4):\n",
    "    all_keys = list(annot.keys())\n",
    "    total_examples = len(all_keys)\n",
    "    indices = np.random.choice(range(total_examples), batch_size)\n",
    "    x = np.zeros((batch_size, 128, 128, 3))\n",
    "    y = np.zeros((batch_size, 1))\n",
    "    images = []\n",
    "    \n",
    "    for i, index in enumerate(indices):\n",
    "        image = tf.keras.preprocessing.image.load_img(os.path.join(image_dir, all_keys[index]),\n",
    "                                                     target_size=(128, 128))\n",
    "        images.append(image)\n",
    "        arr = tf.keras.preprocessing.image.img_to_array(image)\n",
    "        arr = tf.keras.applications.mobilenet_v2.preprocess_input(arr)\n",
    "        arr = np.expand_dims(arr, axis=0)\n",
    "        x[i] = arr\n",
    "        y[i] = class_to_index[annot[all_keys[index]]]\n",
    "    \n",
    "    return x, y, images"
   ]
  },
  {
   "cell_type": "code",
   "execution_count": null,
   "metadata": {},
   "outputs": [],
   "source": [
    "x, y, images = get_random_batch(train_annot, batch_size=8)\n",
    "pets.display_examples(x, y, y, images, index_to_class).show()"
   ]
  },
  {
   "cell_type": "markdown",
   "metadata": {},
   "source": [
    "# Task 4: Create Model"
   ]
  },
  {
   "cell_type": "code",
   "execution_count": null,
   "metadata": {},
   "outputs": [],
   "source": [
    "mnet = tf.keras.applications.mobilenet_v2.MobileNetV2(include_top=False, input_shape=(128, 128, 3),\n",
    "                                                     pooling='avg', weights='imagenet')\n",
    "mnet.summary()"
   ]
  },
  {
   "cell_type": "code",
   "execution_count": null,
   "metadata": {},
   "outputs": [],
   "source": [
    "def create_model():\n",
    "    model = tf.keras.models.Sequential([\n",
    "        mnet,\n",
    "        tf.keras.layers.Dropout(0.5),\n",
    "        tf.keras.layers.Dense(1, activation='sigmoid')\n",
    "    ])\n",
    "\n",
    "    model.layers[0].trainable = False\n",
    "    model.compile(loss='binary_crossentropy', optimizer='adam', metrics=['acc'])\n",
    "    return model\n",
    "\n",
    "model = create_model()\n",
    "model.summary()"
   ]
  },
  {
   "cell_type": "markdown",
   "metadata": {},
   "source": [
    "# Task 5: Model Training"
   ]
  },
  {
   "cell_type": "code",
   "execution_count": null,
   "metadata": {},
   "outputs": [],
   "source": [
    "def data_generator(batch_size, annot):\n",
    "    while True:\n",
    "        x, y, _ = get_random_batch(annot, batch_size)\n",
    "        yield (x, y)"
   ]
  },
  {
   "cell_type": "code",
   "execution_count": null,
   "metadata": {},
   "outputs": [],
   "source": [
    "batch_size = 32\n",
    "steps_per_epoch = int(len(list(train_annot.keys()))/batch_size)\n",
    "validation_steps = int(len(list(test_annot.keys()))/batch_size)\n",
    "\n",
    "print('Steps per epoch:', steps_per_epoch)\n",
    "print('Validation steps:', validation_steps)"
   ]
  },
  {
   "cell_type": "code",
   "execution_count": null,
   "metadata": {},
   "outputs": [],
   "source": [
    "%%time\n",
    "\n",
    "_ = model.fit_generator(\n",
    "    data_generator(batch_size, train_annot),\n",
    "    validation_data=data_generator(batch_size, test_annot),\n",
    "    steps_per_epoch=steps_per_epoch,\n",
    "    validation_steps=validation_steps,\n",
    "    epochs=1\n",
    ")"
   ]
  },
  {
   "cell_type": "markdown",
   "metadata": {},
   "source": [
    "# Task 6: Predictions"
   ]
  },
  {
   "cell_type": "code",
   "execution_count": null,
   "metadata": {},
   "outputs": [],
   "source": [
    "x, y, images = get_random_batch(test_annot, batch_size=8)\n",
    "preds = model.predict(x)\n",
    "pets.display_examples(x, y, preds, images, index_to_class).show()"
   ]
  },
  {
   "cell_type": "code",
   "execution_count": null,
   "metadata": {},
   "outputs": [],
   "source": []
  }
 ],
 "metadata": {
  "kernelspec": {
   "display_name": "Python 3",
   "language": "python",
   "name": "python3"
  },
  "language_info": {
   "codemirror_mode": {
    "name": "ipython",
    "version": 3
   },
   "file_extension": ".py",
   "mimetype": "text/x-python",
   "name": "python",
   "nbconvert_exporter": "python",
   "pygments_lexer": "ipython3",
   "version": "3.6.8"
  }
 },
 "nbformat": 4,
 "nbformat_minor": 2
}
