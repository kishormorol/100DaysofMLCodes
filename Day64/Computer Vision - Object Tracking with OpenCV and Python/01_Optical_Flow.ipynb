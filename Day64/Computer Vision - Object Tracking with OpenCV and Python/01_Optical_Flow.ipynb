{
 "cells": [
  {
   "cell_type": "code",
   "execution_count": 2,
   "metadata": {},
   "outputs": [
    {
     "name": "stdout",
     "output_type": "stream",
     "text": [
      "Collecting opencv-python\n",
      "  Downloading opencv_python-4.2.0.34-cp37-cp37m-manylinux1_x86_64.whl (28.2 MB)\n",
      "\u001b[K     |████████████████████████████████| 28.2 MB 1.7 MB/s eta 0:00:01\n",
      "\u001b[?25hRequirement already satisfied: numpy>=1.14.5 in /home/oem/anaconda3/lib/python3.7/site-packages (from opencv-python) (1.18.1)\n",
      "Installing collected packages: opencv-python\n",
      "Successfully installed opencv-python-4.2.0.34\n",
      "Note: you may need to restart the kernel to use updated packages.\n"
     ]
    }
   ],
   "source": [
    "pip install opencv-python "
   ]
  },
  {
   "cell_type": "code",
   "execution_count": 11,
   "metadata": {},
   "outputs": [
    {
     "ename": "KeyboardInterrupt",
     "evalue": "",
     "output_type": "error",
     "traceback": [
      "\u001b[0;31m---------------------------------------------------------------------------\u001b[0m",
      "\u001b[0;31mKeyboardInterrupt\u001b[0m                         Traceback (most recent call last)",
      "\u001b[0;32m<ipython-input-11-cb640dc8d1e8>\u001b[0m in \u001b[0;36m<module>\u001b[0;34m\u001b[0m\n\u001b[1;32m     81\u001b[0m \u001b[0;34m\u001b[0m\u001b[0m\n\u001b[1;32m     82\u001b[0m         \u001b[0;31m#close the frame\u001b[0m\u001b[0;34m\u001b[0m\u001b[0;34m\u001b[0m\u001b[0;34m\u001b[0m\u001b[0m\n\u001b[0;32m---> 83\u001b[0;31m         \u001b[0;32mif\u001b[0m \u001b[0mcv2\u001b[0m\u001b[0;34m.\u001b[0m\u001b[0mwaitKey\u001b[0m\u001b[0;34m(\u001b[0m\u001b[0;36m300\u001b[0m\u001b[0;34m)\u001b[0m\u001b[0;34m&\u001b[0m \u001b[0;36m0xFF\u001b[0m \u001b[0;34m==\u001b[0m\u001b[0mord\u001b[0m\u001b[0;34m(\u001b[0m\u001b[0;34m'q'\u001b[0m\u001b[0;34m)\u001b[0m\u001b[0;34m:\u001b[0m\u001b[0;34m\u001b[0m\u001b[0;34m\u001b[0m\u001b[0m\n\u001b[0m\u001b[1;32m     84\u001b[0m             \u001b[0;32mbreak\u001b[0m\u001b[0;34m\u001b[0m\u001b[0;34m\u001b[0m\u001b[0m\n\u001b[1;32m     85\u001b[0m \u001b[0;34m\u001b[0m\u001b[0m\n",
      "\u001b[0;31mKeyboardInterrupt\u001b[0m: "
     ]
    }
   ],
   "source": [
    "import cv2\n",
    "import numpy as np\n",
    "\n",
    "st_params = dict(maxCorners=30, qualityLevel=0.2, minDistance=2, blockSize=7)\n",
    "\n",
    "\n",
    "lk_params  = dict(winSize=(15,15),maxLevel=2, criteria=(cv2.TERM_CRITERIA_EPS | cv2.TERM_CRITERIA_COUNT,10,1))\n",
    "\n",
    "#video capture\n",
    "cap = cv2.VideoCapture('Video/run.mp4')\n",
    "\n",
    "\n",
    "color = (0,255,0)\n",
    "\n",
    "#Reading and capturing the first frame\n",
    "ret, first_frame = cap.read()\n",
    "\n",
    "#convert frames to Grayscale\n",
    "prev_gray = cv2.cvtColor(first_frame,cv2.COLOR_BGR2GRAY)\n",
    "\n",
    "#finding the strongest corners in the first frame\n",
    "prev = cv2.goodFeaturesToTrack(prev_gray,mask=None, **st_params)\n",
    "\n",
    "\n",
    "#Creating an image with the same dimensions as the frame for later drawing purposes\n",
    "mask = np.zeros_like(first_frame)\n",
    "\n",
    "#While Loop\n",
    "while(cap.isOpened()):\n",
    "    \n",
    "    #Read the capture and get the first frame\n",
    "    ret, frame = cap.read()\n",
    "    \n",
    "    #convert all frame to Grayscale(previuosly we did only first frame)\n",
    "    gray=cv2.cvtColor(frame,cv2.COLOR_BGR2GRAY)\n",
    "    \n",
    "    #calculate optical flow by Lucas-Kanade\n",
    "    next,status,error=cv2.calcOpticalFlowPyrLK(prev_gray,gray,prev,None,**lk_params)\n",
    "    \n",
    "    #select good feature for the previous position\n",
    "    good_old = prev[status==1]\n",
    "    \n",
    "    #select good feature for the next position\n",
    "    good_new = next[status==1]\n",
    "    \n",
    "    #Draw optical flow track\n",
    "    for i,(new,old) in enumerate(zip(good_new,good_old)):\n",
    "        \n",
    "        #return cooridnates for the new point\n",
    "        a,b = new.ravel()\n",
    "        \n",
    "        #return coordinates for the old point\n",
    "        c,d = old.ravel()\n",
    "        \n",
    "        #Draw ine between ew and old position\n",
    "        mask = cv2.line(mask,\n",
    "                       (a,b),\n",
    "                       (c,d),\n",
    "                       color,\n",
    "                       2)\n",
    "    \n",
    "        \n",
    "        #draw filled circle\n",
    "        frame  = cv2.circle(frame,\n",
    "                           (a,b),\n",
    "                           3,\n",
    "                           color,\n",
    "                           -1)\n",
    "        \n",
    "        #overlay optical flow on original frame\n",
    "        output = cv2.add(frame,mask)\n",
    "        \n",
    "        #update the previos frame\n",
    "        prev_gray = gray.copy()\n",
    "        \n",
    "        #update previous good features\n",
    "        prev = good_new.reshape(-1,1,2)\n",
    "        \n",
    "        #open new window and display the output\n",
    "        cv2.imshow('Optical Flow',output)\n",
    "        \n",
    "        #close the frame\n",
    "        if cv2.waitKey(300)& 0xFF ==ord('q'):\n",
    "            break\n",
    "            \n",
    "cap.release()\n",
    "cv2.destroyAllWindows()\n",
    "        \n",
    "        \n",
    "        \n",
    "\n"
   ]
  },
  {
   "cell_type": "code",
   "execution_count": null,
   "metadata": {},
   "outputs": [],
   "source": []
  }
 ],
 "metadata": {
  "kernelspec": {
   "display_name": "Python 3",
   "language": "python",
   "name": "python3"
  },
  "language_info": {
   "codemirror_mode": {
    "name": "ipython",
    "version": 3
   },
   "file_extension": ".py",
   "mimetype": "text/x-python",
   "name": "python",
   "nbconvert_exporter": "python",
   "pygments_lexer": "ipython3",
   "version": "3.7.6"
  }
 },
 "nbformat": 4,
 "nbformat_minor": 4
}
