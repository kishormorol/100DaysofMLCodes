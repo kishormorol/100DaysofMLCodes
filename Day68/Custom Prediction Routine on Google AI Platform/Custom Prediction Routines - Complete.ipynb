{
 "cells": [
  {
   "cell_type": "markdown",
   "metadata": {},
   "source": [
    "# Custom Prediction Routines on Google AI Platform"
   ]
  },
  {
   "cell_type": "markdown",
   "metadata": {},
   "source": [
    "# Imports"
   ]
  },
  {
   "cell_type": "code",
   "execution_count": null,
   "metadata": {},
   "outputs": [],
   "source": [
    "%matplotlib inline\n",
    "\n",
    "import tensorflow as tf\n",
    "import numpy as np\n",
    "import matplotlib.pyplot as plt\n",
    "import os\n",
    "import base64\n",
    "\n",
    "from googleapiclient import discovery\n",
    "from PIL import Image\n",
    "\n",
    "print('TensorFlow version:', tf.__version__)"
   ]
  },
  {
   "cell_type": "markdown",
   "metadata": {},
   "source": [
    "# Testing the Pretrained Model"
   ]
  },
  {
   "cell_type": "code",
   "execution_count": null,
   "metadata": {},
   "outputs": [],
   "source": [
    "classes = ['Cat', 'Dog']\n",
    "\n",
    "model = tf.keras.models.load_model('model/cats_vs_dogs.h5')\n",
    "model.summary()"
   ]
  },
  {
   "cell_type": "code",
   "execution_count": null,
   "metadata": {},
   "outputs": [],
   "source": [
    "def display_prediction(image_path):\n",
    "    \n",
    "    plt.imshow(plt.imread(image_path))\n",
    "    \n",
    "    x = tf.keras.preprocessing.image.load_img(image_path, target_size=(128, 128, 3))\n",
    "    x = tf.keras.preprocessing.image.img_to_array(x)\n",
    "    x = tf.keras.applications.mobilenet_v2.preprocess_input(x)\n",
    "    x = np.expand_dims(x, axis=0)\n",
    "    \n",
    "    pred = model.predict(x)[0]\n",
    "    \n",
    "    plt.title('Prediction: {}'.format(classes[int(pred > 0.5)]))\n",
    "    plt.show()\n",
    "    \n",
    "    print(np.squeeze(pred))"
   ]
  },
  {
   "cell_type": "code",
   "execution_count": null,
   "metadata": {},
   "outputs": [],
   "source": [
    "display_prediction('images/dog.jpg')"
   ]
  },
  {
   "cell_type": "code",
   "execution_count": null,
   "metadata": {},
   "outputs": [],
   "source": [
    "display_prediction('images/cat.jpg')"
   ]
  },
  {
   "cell_type": "code",
   "execution_count": null,
   "metadata": {},
   "outputs": [],
   "source": [
    "display_prediction('images/dog2.jpg')"
   ]
  },
  {
   "cell_type": "code",
   "execution_count": null,
   "metadata": {},
   "outputs": [],
   "source": [
    "display_prediction('images/cat2.jpg')"
   ]
  },
  {
   "cell_type": "markdown",
   "metadata": {},
   "source": [
    "# Creating Custom Prediction Class"
   ]
  },
  {
   "cell_type": "code",
   "execution_count": null,
   "metadata": {},
   "outputs": [],
   "source": [
    "%%writefile prediction.py\n",
    "import tensorflow as tf\n",
    "import numpy as np\n",
    "import os\n",
    "import base64\n",
    "\n",
    "MODEL_NAME = 'cats_vs_dogs.h5'\n",
    "DEFAULT_SIZE = 128\n",
    "CLASS_NAMES = ['Cat', 'Dog']\n",
    "\n",
    "class CatsVsDogsPrediction:\n",
    "    def __init__(self, model):\n",
    "        self._model = model\n",
    "    \n",
    "    def _preprocess(self, instances):\n",
    "        x_batch = np.zeros((len(instances), self.size, self.size, 3))\n",
    "        for i, instance in enumerate(instances):\n",
    "            x = np.asarray(bytearray(base64.b64decode(instance)))\n",
    "            x = np.reshape(x, (self.size, self.size, 3))\n",
    "            x = tf.keras.applications.mobilenet_v2.preprocess_input(x)\n",
    "            x_batch[i] = x\n",
    "        return x_batch\n",
    "    \n",
    "    def _postprocess(self, predictions):\n",
    "        results = []\n",
    "        for i, prediction in enumerate(predictions):\n",
    "            results.append(\n",
    "                {\n",
    "                    'index': i,\n",
    "                    'class_name': CLASS_NAMES[int(np.squeeze(prediction) > 0.5)],\n",
    "                    'raw_value': '{:.4f}'.format(float(np.squeeze(prediction)))\n",
    "                }\n",
    "            )\n",
    "        return results\n",
    "    \n",
    "    def predict(self, instances, **kwargs):\n",
    "        if 'size' in kwargs:\n",
    "            self.size = int(kwargs.get('size'))\n",
    "        else:\n",
    "            self.size = DEFAULT_SIZE\n",
    "        x_batch = self._preprocess(instances)\n",
    "        preds = self._model.predict(x_batch)\n",
    "        results = self._postprocess(preds)\n",
    "        return results\n",
    "\n",
    "    @classmethod\n",
    "    def from_path(cls, model_dir):\n",
    "        model = tf.keras.models.load_model(os.path.join(model_dir, MODEL_NAME))\n",
    "        return cls(model)"
   ]
  },
  {
   "cell_type": "markdown",
   "metadata": {},
   "source": [
    "# Custom Prediction Package"
   ]
  },
  {
   "cell_type": "code",
   "execution_count": null,
   "metadata": {},
   "outputs": [],
   "source": [
    "%%writefile setup.py\n",
    "from setuptools import setup\n",
    "\n",
    "setup(\n",
    "     name=\"cats_vs_dogs\",\n",
    "     version=\"0.0.1\",\n",
    "     include_package_data=False,\n",
    "     scripts=[\"prediction.py\"]\n",
    ")"
   ]
  },
  {
   "cell_type": "code",
   "execution_count": null,
   "metadata": {},
   "outputs": [],
   "source": [
    "!python3 setup.py sdist --formats=gztar"
   ]
  },
  {
   "cell_type": "markdown",
   "metadata": {},
   "source": [
    "# Using the Deployed Model"
   ]
  },
  {
   "cell_type": "code",
   "execution_count": null,
   "metadata": {},
   "outputs": [],
   "source": [
    "service = discovery.build('ml', 'v1', cache_discovery=False)\n",
    "\n",
    "def get_prediction_models_api(body, project_name, model_name):\n",
    "    response = service.projects().predict(\n",
    "        name = 'projects/{}/models/{}'.format(project_name, model_name),\n",
    "        body = body\n",
    "    ).execute()\n",
    "    return response"
   ]
  },
  {
   "cell_type": "code",
   "execution_count": null,
   "metadata": {},
   "outputs": [],
   "source": [
    "project_name = 'YOUR_PROJECT_NAME'\n",
    "model_name = 'YOUR_MODEL_NAME_ON_AI_PLATFORM'\n",
    "instances = []\n",
    "size = 128\n",
    "\n",
    "images = ['dog.jpg', 'cat.jpg', 'dog2.jpg', 'cat2.jpg']\n",
    "\n",
    "for image in images:\n",
    "    img = Image.open(os.path.join('images', image))\n",
    "    img = img.resize((size, size), Image.ANTIALIAS)\n",
    "    \n",
    "    instances.append(base64.b64encode(img.tobytes()).decode())\n",
    "    \n",
    "    img.close()"
   ]
  },
  {
   "cell_type": "code",
   "execution_count": null,
   "metadata": {},
   "outputs": [],
   "source": [
    "body = {\n",
    "    'instances': instances,\n",
    "    'size': size\n",
    "}\n",
    "\n",
    "response = get_prediction_models_api(body, project_name, model_name)"
   ]
  },
  {
   "cell_type": "code",
   "execution_count": null,
   "metadata": {},
   "outputs": [],
   "source": [
    "response"
   ]
  }
 ],
 "metadata": {
  "kernelspec": {
   "display_name": "Python 3",
   "language": "python",
   "name": "python3"
  },
  "language_info": {
   "codemirror_mode": {
    "name": "ipython",
    "version": 3
   },
   "file_extension": ".py",
   "mimetype": "text/x-python",
   "name": "python",
   "nbconvert_exporter": "python",
   "pygments_lexer": "ipython3",
   "version": "3.6.8"
  }
 },
 "nbformat": 4,
 "nbformat_minor": 4
}
