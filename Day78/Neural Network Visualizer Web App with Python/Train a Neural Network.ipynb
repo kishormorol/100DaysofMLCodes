{
 "cells": [
  {
   "cell_type": "markdown",
   "metadata": {},
   "source": [
    "# Import Libraries"
   ]
  },
  {
   "cell_type": "code",
   "execution_count": 1,
   "metadata": {},
   "outputs": [],
   "source": [
    "%matplotlib inline\n",
    "\n",
    "import tensorflow as tf\n",
    "import numpy as np\n",
    "import matplotlib.pyplot as plt"
   ]
  },
  {
   "cell_type": "markdown",
   "metadata": {},
   "source": [
    "# Download Data"
   ]
  },
  {
   "cell_type": "code",
   "execution_count": 2,
   "metadata": {},
   "outputs": [],
   "source": [
    "(x_train, y_train), (x_test, y_test) = tf.keras.datasets.mnist.load_data()"
   ]
  },
  {
   "cell_type": "markdown",
   "metadata": {},
   "source": [
    "# Plot Examples"
   ]
  },
  {
   "cell_type": "code",
   "execution_count": 3,
   "metadata": {},
   "outputs": [
    {
     "data": {
      "image/png": "[encoded data removed]",
      "text/plain": [
       "<Figure size 720x720 with 16 Axes>"
      ]
     },
     "metadata": {},
     "output_type": "display_data"
    }
   ],
   "source": [
    "plt.figure(figsize=(10, 10))\n",
    "\n",
    "for i in range(16):\n",
    "    plt.subplot(4, 4, i + 1)\n",
    "    plt.imshow(x_train[i], cmap='binary')\n",
    "    plt.xlabel(str(y_train[i]))\n",
    "    plt.xticks([])\n",
    "    plt.yticks([])\n",
    "plt.show()"
   ]
  },
  {
   "cell_type": "markdown",
   "metadata": {},
   "source": [
    "# Normalize Data"
   ]
  },
  {
   "cell_type": "code",
   "execution_count": 4,
   "metadata": {},
   "outputs": [],
   "source": [
    "x_train = np.reshape(x_train, (60000, 784))\n",
    "x_train = x_train / 255.\n",
    "\n",
    "x_test = np.reshape(x_test, (10000, 784))\n",
    "x_test = x_test / 255."
   ]
  },
  {
   "cell_type": "markdown",
   "metadata": {},
   "source": [
    "# Create a Neural Network Model"
   ]
  },
  {
   "cell_type": "code",
   "execution_count": 7,
   "metadata": {},
   "outputs": [],
   "source": [
    "model = tf.keras.models.Sequential([\n",
    "    tf.keras.layers.Dense(32, activation='sigmoid', input_shape=(784,)),\n",
    "    tf.keras.layers.Dense(32, activation='sigmoid'),\n",
    "    tf.keras.layers.Dense(10, activation='softmax')\n",
    "])\n",
    "\n",
    "model.compile(loss='sparse_categorical_crossentropy', optimizer='adam', metrics=['accuracy'])"
   ]
  },
  {
   "cell_type": "markdown",
   "metadata": {},
   "source": [
    "# Train the Model"
   ]
  },
  {
   "cell_type": "code",
   "execution_count": 8,
   "metadata": {},
   "outputs": [
    {
     "name": "stdout",
     "output_type": "stream",
     "text": [
      "Train on 60000 samples, validate on 10000 samples\n",
      "Epoch 1/20\n",
      "60000/60000 - 1s - loss: 2.1994 - accuracy: 0.3593 - val_loss: 1.9857 - val_accuracy: 0.6710\n",
      "Epoch 2/20\n",
      "60000/60000 - 0s - loss: 1.7957 - accuracy: 0.6828 - val_loss: 1.5774 - val_accuracy: 0.7260\n",
      "Epoch 3/20\n",
      "60000/60000 - 0s - loss: 1.3886 - accuracy: 0.7427 - val_loss: 1.1907 - val_accuracy: 0.7763\n",
      "Epoch 4/20\n",
      "60000/60000 - 0s - loss: 1.0471 - accuracy: 0.7973 - val_loss: 0.9006 - val_accuracy: 0.8376\n",
      "Epoch 5/20\n",
      "60000/60000 - 0s - loss: 0.8084 - accuracy: 0.8505 - val_loss: 0.7101 - val_accuracy: 0.8699\n",
      "Epoch 6/20\n",
      "60000/60000 - 0s - loss: 0.6540 - accuracy: 0.8751 - val_loss: 0.5875 - val_accuracy: 0.8869\n",
      "Epoch 7/20\n",
      "60000/60000 - 0s - loss: 0.5524 - accuracy: 0.8868 - val_loss: 0.5048 - val_accuracy: 0.8963\n",
      "Epoch 8/20\n",
      "60000/60000 - 0s - loss: 0.4820 - accuracy: 0.8960 - val_loss: 0.4462 - val_accuracy: 0.9027\n",
      "Epoch 9/20\n",
      "60000/60000 - 0s - loss: 0.4308 - accuracy: 0.9015 - val_loss: 0.4034 - val_accuracy: 0.9095\n",
      "Epoch 10/20\n",
      "60000/60000 - 0s - loss: 0.3921 - accuracy: 0.9065 - val_loss: 0.3702 - val_accuracy: 0.9132\n",
      "Epoch 11/20\n",
      "60000/60000 - 0s - loss: 0.3617 - accuracy: 0.9112 - val_loss: 0.3445 - val_accuracy: 0.9165\n",
      "Epoch 12/20\n",
      "60000/60000 - 0s - loss: 0.3370 - accuracy: 0.9163 - val_loss: 0.3224 - val_accuracy: 0.9196\n",
      "Epoch 13/20\n",
      "60000/60000 - 0s - loss: 0.3161 - accuracy: 0.9201 - val_loss: 0.3045 - val_accuracy: 0.9222\n",
      "Epoch 14/20\n",
      "60000/60000 - 0s - loss: 0.2985 - accuracy: 0.9229 - val_loss: 0.2908 - val_accuracy: 0.9255\n",
      "Epoch 15/20\n",
      "60000/60000 - 0s - loss: 0.2832 - accuracy: 0.9269 - val_loss: 0.2765 - val_accuracy: 0.9275\n",
      "Epoch 16/20\n",
      "60000/60000 - 0s - loss: 0.2697 - accuracy: 0.9294 - val_loss: 0.2664 - val_accuracy: 0.9297\n",
      "Epoch 17/20\n",
      "60000/60000 - 0s - loss: 0.2578 - accuracy: 0.9319 - val_loss: 0.2546 - val_accuracy: 0.9324\n",
      "Epoch 18/20\n",
      "60000/60000 - 0s - loss: 0.2469 - accuracy: 0.9348 - val_loss: 0.2455 - val_accuracy: 0.9350\n",
      "Epoch 19/20\n",
      "60000/60000 - 0s - loss: 0.2372 - accuracy: 0.9377 - val_loss: 0.2371 - val_accuracy: 0.9371\n",
      "Epoch 20/20\n",
      "60000/60000 - 0s - loss: 0.2283 - accuracy: 0.9393 - val_loss: 0.2289 - val_accuracy: 0.9386\n"
     ]
    }
   ],
   "source": [
    "_ = model.fit(\n",
    "    x_train, y_train,\n",
    "    validation_data=(x_test, y_test),\n",
    "    epochs=20, batch_size=1024,\n",
    "    verbose=2\n",
    ")"
   ]
  },
  {
   "cell_type": "markdown",
   "metadata": {},
   "source": [
    "# Save the Model"
   ]
  },
  {
   "cell_type": "code",
   "execution_count": 9,
   "metadata": {},
   "outputs": [],
   "source": [
    "model.save('model.h5')"
   ]
  },
  {
   "cell_type": "code",
   "execution_count": null,
   "metadata": {},
   "outputs": [],
   "source": []
  }
 ],
 "metadata": {
  "kernelspec": {
   "display_name": "Python 3",
   "language": "python",
   "name": "python3"
  },
  "language_info": {
   "codemirror_mode": {
    "name": "ipython",
    "version": 3
   },
   "file_extension": ".py",
   "mimetype": "text/x-python",
   "name": "python",
   "nbconvert_exporter": "python",
   "pygments_lexer": "ipython3",
   "version": "3.6.8"
  }
 },
 "nbformat": 4,
 "nbformat_minor": 2
}
